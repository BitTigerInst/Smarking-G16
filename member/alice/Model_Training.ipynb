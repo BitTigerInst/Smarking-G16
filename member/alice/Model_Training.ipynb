{
 "cells": [
  {
   "cell_type": "code",
   "execution_count": 2,
   "metadata": {
    "collapsed": false
   },
   "outputs": [],
   "source": [
    "#----------- Part-1: Create Data Frame\n",
    "#----------- Part-2: Create Feature Columns & Target Column\n",
    "#----------- Part-3: Train Models\n",
    "#----------- Part-4: Fit, Predict, Score\n",
    "\n",
    "#----------- Other Questions\n",
    "\n",
    "import json\n",
    "import pandas as pd\n",
    "import numpy as np\n",
    "\n",
    "from datetime import datetime, date, timedelta\n",
    "import warnings\n",
    "warnings.filterwarnings('ignore')\n",
    "\n",
    "with open('hourly_data.json','rb') as f:\n",
    "    data=f.readlines()\n",
    "hourly_data = json.loads(data[0])"
   ]
  },
  {
   "cell_type": "code",
   "execution_count": 37,
   "metadata": {
    "collapsed": false
   },
   "outputs": [],
   "source": [
    "# for key in hourly_data.items():\n",
    "#     print key\n",
    "# (u'2015-12-06', [45, 43, 40, 40, 40, 38, 39, 43, 61, 84, 120, 139, 143, 114, 84, 82, 73, 69, 63, 55, 51, 49, 47, 42])"
   ]
  },
  {
   "cell_type": "code",
   "execution_count": 24,
   "metadata": {
    "collapsed": false
   },
   "outputs": [],
   "source": [
    "#----------- Part-1: Create Data Frame\n",
    "#\n",
    "# Year-Week#-Weekday-Date-Hour-#_of_parking\n",
    "#\n",
    "\n",
    "raw_data = []\n",
    "for key,value in hourly_data.items():\n",
    "    for i in range(24):\n",
    "        raw_data.append((key,i,value[i]))\n",
    "            # Date-Hour-Count\n",
    "            # [(u'2014-06-30', 0, 43), (u'2014-06-30', 1, 41),..]\n",
    "data_df = pd.DataFrame(raw_data, columns=['Date','Hour','#_of_parking'])\n",
    "\n",
    "# Decompose Date to Year, Week# & Weekday\n",
    "pk_df = pd.DataFrame(map(lambda x: x.isocalendar(), pd.to_datetime(data_df['Date'])), columns=['Year','Week#','Weekday'])\n",
    "            #        Year  Week#  Weekday\n",
    "            # 0      2014     27        1\n",
    "        \n",
    "pk_df['Date']=data_df['Date']\n",
    "pk_df['Hour']=data_df['Hour']\n",
    "pk_df['#_of_parking']=data_df['#_of_parking']\n",
    "            # len(pk_df)=27768\n",
    "\n",
    "# Based on 'Basic_Static.ipynb: part-7' Ignore data of year 2012 & 2013\n",
    "use_data_df = pk_df[(pk_df['Date']>'2013-12-31')]"
   ]
  },
  {
   "cell_type": "code",
   "execution_count": 25,
   "metadata": {
    "collapsed": false
   },
   "outputs": [
    {
     "data": {
      "text/html": [
       "<div>\n",
       "<table border=\"1\" class=\"dataframe\">\n",
       "  <thead>\n",
       "    <tr style=\"text-align: right;\">\n",
       "      <th></th>\n",
       "      <th>Year</th>\n",
       "      <th>Week#</th>\n",
       "      <th>Weekday</th>\n",
       "      <th>Date</th>\n",
       "      <th>Hour</th>\n",
       "      <th>#_of_parking</th>\n",
       "    </tr>\n",
       "  </thead>\n",
       "  <tbody>\n",
       "    <tr>\n",
       "      <th>0</th>\n",
       "      <td>2014</td>\n",
       "      <td>27</td>\n",
       "      <td>1</td>\n",
       "      <td>2014-06-30</td>\n",
       "      <td>0</td>\n",
       "      <td>43</td>\n",
       "    </tr>\n",
       "    <tr>\n",
       "      <th>1</th>\n",
       "      <td>2014</td>\n",
       "      <td>27</td>\n",
       "      <td>1</td>\n",
       "      <td>2014-06-30</td>\n",
       "      <td>1</td>\n",
       "      <td>41</td>\n",
       "    </tr>\n",
       "    <tr>\n",
       "      <th>2</th>\n",
       "      <td>2014</td>\n",
       "      <td>27</td>\n",
       "      <td>1</td>\n",
       "      <td>2014-06-30</td>\n",
       "      <td>2</td>\n",
       "      <td>38</td>\n",
       "    </tr>\n",
       "    <tr>\n",
       "      <th>3</th>\n",
       "      <td>2014</td>\n",
       "      <td>27</td>\n",
       "      <td>1</td>\n",
       "      <td>2014-06-30</td>\n",
       "      <td>3</td>\n",
       "      <td>39</td>\n",
       "    </tr>\n",
       "    <tr>\n",
       "      <th>4</th>\n",
       "      <td>2014</td>\n",
       "      <td>27</td>\n",
       "      <td>1</td>\n",
       "      <td>2014-06-30</td>\n",
       "      <td>4</td>\n",
       "      <td>58</td>\n",
       "    </tr>\n",
       "  </tbody>\n",
       "</table>\n",
       "</div>"
      ],
      "text/plain": [
       "   Year  Week#  Weekday        Date  Hour  #_of_parking\n",
       "0  2014     27        1  2014-06-30     0            43\n",
       "1  2014     27        1  2014-06-30     1            41\n",
       "2  2014     27        1  2014-06-30     2            38\n",
       "3  2014     27        1  2014-06-30     3            39\n",
       "4  2014     27        1  2014-06-30     4            58"
      ]
     },
     "execution_count": 25,
     "metadata": {},
     "output_type": "execute_result"
    }
   ],
   "source": [
    "# print pd.to_datetime(data_df['Date'])[0].isocalendar()\n",
    "# (2014, 27, 1)\n",
    "use_data_df.head()"
   ]
  },
  {
   "cell_type": "code",
   "execution_count": 26,
   "metadata": {
    "collapsed": false
   },
   "outputs": [
    {
     "data": {
      "text/plain": [
       "18264"
      ]
     },
     "execution_count": 26,
     "metadata": {},
     "output_type": "execute_result"
    }
   ],
   "source": [
    "len(use_data_df)"
   ]
  },
  {
   "cell_type": "code",
   "execution_count": 32,
   "metadata": {
    "collapsed": false
   },
   "outputs": [
    {
     "name": "stdout",
     "output_type": "stream",
     "text": [
      "Feature columns:\n",
      "['Week#', 'Weekday', 'Hour']\n",
      "\n",
      "Target column: #_of_parking\n",
      "   Week#  Weekday  Hour\n",
      "0     27        1     0\n",
      "1     27        1     1\n",
      "2     27        1     2\n",
      "3     27        1     3\n",
      "4     27        1     4\n",
      "0    43\n",
      "1    41\n",
      "2    38\n",
      "3    39\n",
      "4    58\n",
      "Name: #_of_parking, dtype: int64\n"
     ]
    }
   ],
   "source": [
    "#----------- Part-2: Create Feature Columns & Target Column\n",
    "#\n",
    "#----------- list of features: 53 week, 7 weekday, 24 hour, [later consider: 3 awd, weekend, holiday, 8 hour period]\n",
    "\n",
    "\n",
    "feature_cols = list(['Week#','Weekday','Hour'])\n",
    "target_col = use_data_df.columns[-1]\n",
    "\n",
    "print \"Feature columns:\\n{}\".format(feature_cols)\n",
    "print \"\\nTarget column: {}\".format(target_col)\n",
    "\n",
    "X_all = use_data_df[feature_cols]\n",
    "y_all = use_data_df[target_col]\n",
    "\n",
    "print X_all.head()\n",
    "print y_all.head()"
   ]
  },
  {
   "cell_type": "code",
   "execution_count": null,
   "metadata": {
    "collapsed": true
   },
   "outputs": [],
   "source": []
  }
 ],
 "metadata": {
  "kernelspec": {
   "display_name": "Python 2",
   "language": "python",
   "name": "python2"
  },
  "language_info": {
   "codemirror_mode": {
    "name": "ipython",
    "version": 2
   },
   "file_extension": ".py",
   "mimetype": "text/x-python",
   "name": "python",
   "nbconvert_exporter": "python",
   "pygments_lexer": "ipython2",
   "version": "2.7.11"
  }
 },
 "nbformat": 4,
 "nbformat_minor": 0
}
