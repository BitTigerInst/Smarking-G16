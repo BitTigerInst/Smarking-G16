{
 "cells": [
  {
   "cell_type": "code",
   "execution_count": 20,
   "metadata": {
    "collapsed": false
   },
   "outputs": [],
   "source": [
    "#----------- Part-1: Create Data Frame\n",
    "#----------- Part-2: Create Feature Columns & Target Column\n",
    "#----------- Part-3: Train Models\n",
    "#----------- Part-4: Fit, Predict, Score\n",
    "\n",
    "#----------- Other Questions\n",
    "\n",
    "import json\n",
    "import pandas as pd\n",
    "import numpy as np\n",
    "import matplotlib.pyplot as plt\n",
    "%matplotlib inline\n",
    "\n",
    "from datetime import datetime, date, timedelta\n",
    "import warnings\n",
    "warnings.filterwarnings('ignore')\n",
    "\n",
    "with open('hourly_data.json','rb') as f:\n",
    "    data=f.readlines()\n",
    "hourly_data = json.loads(data[0])"
   ]
  },
  {
   "cell_type": "code",
   "execution_count": 37,
   "metadata": {
    "collapsed": false
   },
   "outputs": [],
   "source": [
    "# for key in hourly_data.items():\n",
    "#     print key\n",
    "# (u'2015-12-06', [45, 43, 40, 40, 40, 38, 39, 43, 61, 84, 120, 139, 143, 114, 84, 82, 73, 69, 63, 55, 51, 49, 47, 42])"
   ]
  },
  {
   "cell_type": "code",
   "execution_count": 2,
   "metadata": {
    "collapsed": false
   },
   "outputs": [],
   "source": [
    "#----------- Part-1: Create Data Frame\n",
    "#\n",
    "#----------- Year-Week#-Weekday-Date-Hour-#_of_parking\n",
    "#\n",
    "\n",
    "\n",
    "# Date-Hour-Count\n",
    "# [(u'2014-06-30', 0, 43), (u'2014-06-30', 1, 41),..]\n",
    "raw_data = []\n",
    "for key,value in hourly_data.items():\n",
    "    for i in range(24):\n",
    "        raw_data.append((key,i,value[i]))\n",
    "\n",
    "data_df = pd.DataFrame(raw_data, columns=['Date','Hour','#_of_parking'])\n",
    "\n",
    "\n",
    "#        Year  Week#  Weekday\n",
    "# 0      2014     27        1\n",
    "# Decompose Date to Year, Week# & Weekday\n",
    "pk_df = pd.DataFrame(map(lambda x: x.isocalendar(), pd.to_datetime(data_df['Date'])), columns=['Year','Week#','Weekday'])\n",
    "\n",
    "  \n",
    "# len(pk_df)=27768\n",
    "pk_df['Date']=data_df['Date']\n",
    "pk_df['Hour']=data_df['Hour']\n",
    "pk_df['#_of_parking']=data_df['#_of_parking']\n",
    "            \n",
    "\n",
    "# len(use_data_df)=18264\n",
    "# Based on 'Basic_Static.ipynb: part-7' Ignore data of year 2012 & 2013\n",
    "use_data_df = pk_df[(pk_df['Date']>'2013-12-31')]"
   ]
  },
  {
   "cell_type": "code",
   "execution_count": 3,
   "metadata": {
    "collapsed": false
   },
   "outputs": [
    {
     "data": {
      "text/html": [
       "<div>\n",
       "<table border=\"1\" class=\"dataframe\">\n",
       "  <thead>\n",
       "    <tr style=\"text-align: right;\">\n",
       "      <th></th>\n",
       "      <th>Year</th>\n",
       "      <th>Week#</th>\n",
       "      <th>Weekday</th>\n",
       "      <th>Date</th>\n",
       "      <th>Hour</th>\n",
       "      <th>#_of_parking</th>\n",
       "    </tr>\n",
       "  </thead>\n",
       "  <tbody>\n",
       "    <tr>\n",
       "      <th>0</th>\n",
       "      <td>2014</td>\n",
       "      <td>27</td>\n",
       "      <td>1</td>\n",
       "      <td>2014-06-30</td>\n",
       "      <td>0</td>\n",
       "      <td>43</td>\n",
       "    </tr>\n",
       "    <tr>\n",
       "      <th>1</th>\n",
       "      <td>2014</td>\n",
       "      <td>27</td>\n",
       "      <td>1</td>\n",
       "      <td>2014-06-30</td>\n",
       "      <td>1</td>\n",
       "      <td>41</td>\n",
       "    </tr>\n",
       "    <tr>\n",
       "      <th>2</th>\n",
       "      <td>2014</td>\n",
       "      <td>27</td>\n",
       "      <td>1</td>\n",
       "      <td>2014-06-30</td>\n",
       "      <td>2</td>\n",
       "      <td>38</td>\n",
       "    </tr>\n",
       "    <tr>\n",
       "      <th>3</th>\n",
       "      <td>2014</td>\n",
       "      <td>27</td>\n",
       "      <td>1</td>\n",
       "      <td>2014-06-30</td>\n",
       "      <td>3</td>\n",
       "      <td>39</td>\n",
       "    </tr>\n",
       "    <tr>\n",
       "      <th>4</th>\n",
       "      <td>2014</td>\n",
       "      <td>27</td>\n",
       "      <td>1</td>\n",
       "      <td>2014-06-30</td>\n",
       "      <td>4</td>\n",
       "      <td>58</td>\n",
       "    </tr>\n",
       "  </tbody>\n",
       "</table>\n",
       "</div>"
      ],
      "text/plain": [
       "   Year  Week#  Weekday        Date  Hour  #_of_parking\n",
       "0  2014     27        1  2014-06-30     0            43\n",
       "1  2014     27        1  2014-06-30     1            41\n",
       "2  2014     27        1  2014-06-30     2            38\n",
       "3  2014     27        1  2014-06-30     3            39\n",
       "4  2014     27        1  2014-06-30     4            58"
      ]
     },
     "execution_count": 3,
     "metadata": {},
     "output_type": "execute_result"
    }
   ],
   "source": [
    "# print pd.to_datetime(data_df['Date'])[0].isocalendar()\n",
    "# (2014, 27, 1)\n",
    "use_data_df.head()"
   ]
  },
  {
   "cell_type": "code",
   "execution_count": 8,
   "metadata": {
    "collapsed": false
   },
   "outputs": [
    {
     "data": {
      "text/html": [
       "<div>\n",
       "<table border=\"1\" class=\"dataframe\">\n",
       "  <thead>\n",
       "    <tr style=\"text-align: right;\">\n",
       "      <th></th>\n",
       "      <th>Year</th>\n",
       "      <th>Week#</th>\n",
       "      <th>Weekday</th>\n",
       "      <th>Date</th>\n",
       "      <th>Hour</th>\n",
       "      <th>#_of_parking</th>\n",
       "      <th>w#_0</th>\n",
       "      <th>w#_1</th>\n",
       "      <th>w#_2</th>\n",
       "      <th>w#_3</th>\n",
       "      <th>...</th>\n",
       "      <th>h#_22</th>\n",
       "      <th>h#_23</th>\n",
       "      <th>h_0_5_21_24</th>\n",
       "      <th>h_5_7</th>\n",
       "      <th>h_7_19</th>\n",
       "      <th>h_19_21</th>\n",
       "      <th>h_0_6</th>\n",
       "      <th>h_6_12</th>\n",
       "      <th>h_12_18</th>\n",
       "      <th>h_18_24</th>\n",
       "    </tr>\n",
       "  </thead>\n",
       "  <tbody>\n",
       "    <tr>\n",
       "      <th>0</th>\n",
       "      <td>2014</td>\n",
       "      <td>27</td>\n",
       "      <td>1</td>\n",
       "      <td>2014-06-30</td>\n",
       "      <td>0</td>\n",
       "      <td>43</td>\n",
       "      <td>0</td>\n",
       "      <td>0</td>\n",
       "      <td>0</td>\n",
       "      <td>0</td>\n",
       "      <td>...</td>\n",
       "      <td>0</td>\n",
       "      <td>0</td>\n",
       "      <td>1</td>\n",
       "      <td>0</td>\n",
       "      <td>0</td>\n",
       "      <td>0</td>\n",
       "      <td>1</td>\n",
       "      <td>0</td>\n",
       "      <td>0</td>\n",
       "      <td>0</td>\n",
       "    </tr>\n",
       "    <tr>\n",
       "      <th>1</th>\n",
       "      <td>2014</td>\n",
       "      <td>27</td>\n",
       "      <td>1</td>\n",
       "      <td>2014-06-30</td>\n",
       "      <td>1</td>\n",
       "      <td>41</td>\n",
       "      <td>0</td>\n",
       "      <td>0</td>\n",
       "      <td>0</td>\n",
       "      <td>0</td>\n",
       "      <td>...</td>\n",
       "      <td>0</td>\n",
       "      <td>0</td>\n",
       "      <td>1</td>\n",
       "      <td>0</td>\n",
       "      <td>0</td>\n",
       "      <td>0</td>\n",
       "      <td>1</td>\n",
       "      <td>0</td>\n",
       "      <td>0</td>\n",
       "      <td>0</td>\n",
       "    </tr>\n",
       "    <tr>\n",
       "      <th>2</th>\n",
       "      <td>2014</td>\n",
       "      <td>27</td>\n",
       "      <td>1</td>\n",
       "      <td>2014-06-30</td>\n",
       "      <td>2</td>\n",
       "      <td>38</td>\n",
       "      <td>0</td>\n",
       "      <td>0</td>\n",
       "      <td>0</td>\n",
       "      <td>0</td>\n",
       "      <td>...</td>\n",
       "      <td>0</td>\n",
       "      <td>0</td>\n",
       "      <td>1</td>\n",
       "      <td>0</td>\n",
       "      <td>0</td>\n",
       "      <td>0</td>\n",
       "      <td>1</td>\n",
       "      <td>0</td>\n",
       "      <td>0</td>\n",
       "      <td>0</td>\n",
       "    </tr>\n",
       "    <tr>\n",
       "      <th>3</th>\n",
       "      <td>2014</td>\n",
       "      <td>27</td>\n",
       "      <td>1</td>\n",
       "      <td>2014-06-30</td>\n",
       "      <td>3</td>\n",
       "      <td>39</td>\n",
       "      <td>0</td>\n",
       "      <td>0</td>\n",
       "      <td>0</td>\n",
       "      <td>0</td>\n",
       "      <td>...</td>\n",
       "      <td>0</td>\n",
       "      <td>0</td>\n",
       "      <td>1</td>\n",
       "      <td>0</td>\n",
       "      <td>0</td>\n",
       "      <td>0</td>\n",
       "      <td>1</td>\n",
       "      <td>0</td>\n",
       "      <td>0</td>\n",
       "      <td>0</td>\n",
       "    </tr>\n",
       "    <tr>\n",
       "      <th>4</th>\n",
       "      <td>2014</td>\n",
       "      <td>27</td>\n",
       "      <td>1</td>\n",
       "      <td>2014-06-30</td>\n",
       "      <td>4</td>\n",
       "      <td>58</td>\n",
       "      <td>0</td>\n",
       "      <td>0</td>\n",
       "      <td>0</td>\n",
       "      <td>0</td>\n",
       "      <td>...</td>\n",
       "      <td>0</td>\n",
       "      <td>0</td>\n",
       "      <td>1</td>\n",
       "      <td>0</td>\n",
       "      <td>0</td>\n",
       "      <td>0</td>\n",
       "      <td>1</td>\n",
       "      <td>0</td>\n",
       "      <td>0</td>\n",
       "      <td>0</td>\n",
       "    </tr>\n",
       "  </tbody>\n",
       "</table>\n",
       "<p>5 rows × 101 columns</p>\n",
       "</div>"
      ],
      "text/plain": [
       "   Year  Week#  Weekday        Date  Hour  #_of_parking  w#_0  w#_1  w#_2  \\\n",
       "0  2014     27        1  2014-06-30     0            43     0     0     0   \n",
       "1  2014     27        1  2014-06-30     1            41     0     0     0   \n",
       "2  2014     27        1  2014-06-30     2            38     0     0     0   \n",
       "3  2014     27        1  2014-06-30     3            39     0     0     0   \n",
       "4  2014     27        1  2014-06-30     4            58     0     0     0   \n",
       "\n",
       "   w#_3   ...     h#_22  h#_23  h_0_5_21_24  h_5_7  h_7_19  h_19_21  h_0_6  \\\n",
       "0     0   ...         0      0            1      0       0        0      1   \n",
       "1     0   ...         0      0            1      0       0        0      1   \n",
       "2     0   ...         0      0            1      0       0        0      1   \n",
       "3     0   ...         0      0            1      0       0        0      1   \n",
       "4     0   ...         0      0            1      0       0        0      1   \n",
       "\n",
       "   h_6_12  h_12_18  h_18_24  \n",
       "0       0        0        0  \n",
       "1       0        0        0  \n",
       "2       0        0        0  \n",
       "3       0        0        0  \n",
       "4       0        0        0  \n",
       "\n",
       "[5 rows x 101 columns]"
      ]
     },
     "execution_count": 8,
     "metadata": {},
     "output_type": "execute_result"
    }
   ],
   "source": [
    "#----------- Part-2: Create Feature Columns & Target Column\n",
    "#\n",
    "#----------- list of features: 53 week, 7 weekday, 24 hour, [3 awd, weekend, holiday, 8 hour period]\n",
    "#\n",
    "# ToDo: \n",
    "# Holiday list ?\n",
    "# actural_work_day no 5 ?\n",
    "# Hour period check ?\n",
    "\n",
    "\n",
    "lst_feature = []\n",
    "\n",
    "# Week#\n",
    "for i in range(53):\n",
    "    lst_feature += ['w#_'+str(i)]\n",
    "    use_data_df['w#_'+str(i)] = map(lambda x:1 if x==i else 0 , use_data_df['Week#'])\n",
    "\n",
    "    \n",
    "# Weekday#\n",
    "for i in range(1,8):\n",
    "    lst_feature += ['d#_'+str(i)]\n",
    "    use_data_df['d#_'+str(i)] = map(lambda x:1 if x==i else 0, use_data_df['Weekday'])\n",
    "\n",
    "    \n",
    "# Actural Work Day & Weekend & Holidays\n",
    "lst_feature += ['awd','weekend','?holiday']\n",
    "\n",
    "actural_work_day = [1,2,3,4,5]\n",
    "weekend = [6,7]\n",
    "holidays_lst = ['2014-01-01', '2015-01-01', '2016-01-01',\n",
    " '2014-05-26', '2015-05-25', '2016-05-30',\n",
    " '2014-07-04', '2015-07-03', '2015-07-04', '2016-07-04',\n",
    " '2014-09-01', '2015-09-07', '2015-09-05',\n",
    " '2014-11-27', '2014-11-28', '2015-11-26', '2015-11-27', '2016-11-24', '2016-11-25',\n",
    " '2014-12-25', '2015-12-25', '2015-12-25', '2015-12-26']\n",
    "\n",
    "use_data_df['awd'] = map(lambda x:1 if x in actural_work_day else 0, use_data_df['Weekday'])\n",
    "use_data_df['weekend'] = map(lambda x:1 if x in weekend else 0, use_data_df['Weekday'])\n",
    "use_data_df['?holiday'] = map(lambda x:1 if x in holidays_lst else 0, use_data_df['Date'])\n",
    "\n",
    "\n",
    "# Hour#\n",
    "for i in range(24):\n",
    "    lst_feature += ['h#_'+str(i)]\n",
    "    use_data_df['h#_'+str(i)] = map(lambda x:1 if x==i else 0, use_data_df['Hour'])\n",
    "\n",
    "    \n",
    "# Hour_Period\n",
    "lst_feature += ['h_0_5_21_24','h_5_7','h_7_19','h_19_21','h_0_6','h_6_12','h_12_18','h_18_24']\n",
    "\n",
    "rh1 = range(0,5)+range(21,24)\n",
    "use_data_df['h_0_5_21_24'] = map(lambda x:1 if x in rh1 else 0, use_data_df['Hour'])\n",
    "use_data_df['h_5_7'] = map(lambda x:1 if x in range(5,7) else 0, use_data_df['Hour'])\n",
    "use_data_df['h_7_19'] = map(lambda x:1 if x in range(7,19) else 0, use_data_df['Hour'])   \n",
    "use_data_df['h_19_21'] = map(lambda x:1 if x in range(19,21) else 0, use_data_df['Hour'])\n",
    "\n",
    "use_data_df['h_0_6'] = map(lambda x:1 if x in range(0,6) else 0, use_data_df['Hour'])\n",
    "use_data_df['h_6_12'] = map(lambda x:1 if x in range(6,12) else 0, use_data_df['Hour'])\n",
    "use_data_df['h_12_18'] = map(lambda x:1 if x in range(12,18) else 0, use_data_df['Hour'])   \n",
    "use_data_df['h_18_24'] = map(lambda x:1 if x in range(18,24) else 0, use_data_df['Hour'])\n",
    "    \n",
    "# len(lst_feature)=95\n",
    "use_data_df.head()"
   ]
  },
  {
   "cell_type": "code",
   "execution_count": 9,
   "metadata": {
    "collapsed": true
   },
   "outputs": [],
   "source": [
    "X_all = use_data_df[lst_feature]\n",
    "y_all = use_data_df['#_of_parking']"
   ]
  },
  {
   "cell_type": "code",
   "execution_count": 13,
   "metadata": {
    "collapsed": false
   },
   "outputs": [],
   "source": [
    "#----------- Part-3: Train Models\n",
    "#\n",
    "\n",
    "from sklearn.cross_validation import train_test_split\n",
    "from sklearn.linear_model import LinearRegression, LogisticRegression, SGDRegressor\n",
    "from sklearn.metrics import mean_squared_error, make_scorer\n",
    "from sklearn.grid_search import GridSearchCV\n"
   ]
  },
  {
   "cell_type": "code",
   "execution_count": 22,
   "metadata": {
    "collapsed": false
   },
   "outputs": [
    {
     "name": "stdout",
     "output_type": "stream",
     "text": [
      "16437 1827\n"
     ]
    }
   ],
   "source": [
    "(X_train, X_test, y_train, y_test) = train_test_split(X_all, y_all, test_size=0.1)\n",
    "print len(X_train), len(X_test)"
   ]
  },
  {
   "cell_type": "code",
   "execution_count": 83,
   "metadata": {
    "collapsed": false
   },
   "outputs": [
    {
     "name": "stdout",
     "output_type": "stream",
     "text": [
      "Regression Score: 0.732792114418\n"
     ]
    },
    {
     "data": {
      "image/png": "[encoded data removed]",
      "text/plain": [
       "<matplotlib.figure.Figure at 0x1040c6e90>"
      ]
     },
     "metadata": {},
     "output_type": "display_data"
    }
   ],
   "source": [
    "#----------- LinearRegression\n",
    "\n",
    "#-- 1st Try: All Data\n",
    "reg_linear = LinearRegression()\n",
    "reg_linear.fit(X_train, y_train)\n",
    "y_lreg = reg_linear.predict(X_test)\n",
    "\n",
    "print \"Regression Score: {}\".format(reg_linear.score(X_all, y_all))\n",
    "\n",
    "#-- Visulize y_predict & y_test\n",
    "t = np.arange(0,100,1)\n",
    "plt.plot(t,y_lreg.tolist()[:100],'g.',t,y_test.tolist()[:100],'r.')\n",
    "plt.show()"
   ]
  },
  {
   "cell_type": "code",
   "execution_count": 89,
   "metadata": {
    "collapsed": false
   },
   "outputs": [
    {
     "name": "stdout",
     "output_type": "stream",
     "text": [
      "Linear Regression Score: 0.734368288591\n",
      "r2 Score: 0.655246465297\n"
     ]
    },
    {
     "data": {
      "image/png": "[encoded data removed]",
      "text/plain": [
       "<matplotlib.figure.Figure at 0x1160d6790>"
      ]
     },
     "metadata": {},
     "output_type": "display_data"
    }
   ],
   "source": [
    "#-- 2nd Try: Not Consider 2016\n",
    "\n",
    "# Test Data\n",
    "# len(data_16jan)=744\n",
    "data_16jan = use_data_df[use_data_df['Date']>'2015-12-31'].sort(['Date','Hour'])\n",
    "X_16jan = data_16jan[lst_feature]\n",
    "y_16jan = data_16jan['#_of_parking']\n",
    "\n",
    "# Train Data\n",
    "data_train_new = use_data_df[use_data_df['Date']<'2016-01-01']\n",
    "X_all_new = data_train_new[lst_feature]\n",
    "y_all_new = data_train_new['#_of_parking']\n",
    "\n",
    "# Model Training\n",
    "final_lreg = LinearRegression()\n",
    "final_lreg.fit(X_all_new, y_all_new)\n",
    "\n",
    "# Predict\n",
    "y_lreg_new = final_lreg.predict(X_16jan)\n",
    "\n",
    "# Score\n",
    "lscore = final_lreg.score(X_all_new, y_all_new)\n",
    "print \"Linear Regression Score: {}\".format(lscore)\n",
    "\n",
    "from sklearn.metrics import r2_score\n",
    "r2score = r2_score(y_16jan.tolist(), y_lreg_new.tolist())\n",
    "print \"r2 Score: {}\".format(r2score)\n",
    "\n",
    "t = np.arange(0,744,1)\n",
    "plt.plot(t, y_lreg_new.tolist(), 'g.', t, y_16jan.tolist(), 'r.')\n",
    "plt.show()"
   ]
  },
  {
   "cell_type": "code",
   "execution_count": 64,
   "metadata": {
    "collapsed": false
   },
   "outputs": [
    {
     "data": {
      "text/plain": [
       "array([-1368., -1396., -1356., -1328., -1312.])"
      ]
     },
     "execution_count": 64,
     "metadata": {},
     "output_type": "execute_result"
    }
   ],
   "source": [
    "y_lreg_new[:5]"
   ]
  },
  {
   "cell_type": "code",
   "execution_count": 61,
   "metadata": {
    "collapsed": false
   },
   "outputs": [
    {
     "data": {
      "text/plain": [
       "2688    40\n",
       "2689    38\n",
       "2690    36\n",
       "2691    35\n",
       "2692    35\n",
       "Name: #_of_parking, dtype: int64"
      ]
     },
     "execution_count": 61,
     "metadata": {},
     "output_type": "execute_result"
    }
   ],
   "source": [
    "y_16jan.head()"
   ]
  },
  {
   "cell_type": "code",
   "execution_count": 91,
   "metadata": {
    "collapsed": false
   },
   "outputs": [
    {
     "name": "stdout",
     "output_type": "stream",
     "text": [
      "Regression Score: 0.755425233174\n",
      "r2 Score: 0.902961460825\n",
      "RMSE: 302.819730632\n"
     ]
    },
    {
     "data": {
      "image/png": "[encoded data removed]",
      "text/plain": [
       "<matplotlib.figure.Figure at 0x119b21bd0>"
      ]
     },
     "metadata": {},
     "output_type": "display_data"
    }
   ],
   "source": [
    "#-- 3rd Try: SGDRegressor\n",
    "\n",
    "from sklearn.linear_model import SGDRegressor\n",
    "import math\n",
    "y_all_new_log = map(lambda x:math.log(x), y_all_new)\n",
    "\n",
    "# Model Training\n",
    "lg_reg = SGDRegressor(loss='epsilon_insensitive', penalty='l1', epsilon=0.01)\n",
    "lg_reg.fit(X_all_new, y_all_new_log)\n",
    "\n",
    "# Predict\n",
    "y_lgreg = lg_reg.predict(X_16jan)\n",
    "y_16jan_lgreg = map(lambda x:math.exp(x), y_lgreg.tolist())\n",
    "\n",
    "# Score\n",
    "lgscore = lg_reg.score(X_all_new, y_all_new_log)\n",
    "print \"Regression Score: {}\".format(lgscore)\n",
    "\n",
    "lgr2score = r2_score(y_16jan, y_16jan_lgreg)\n",
    "print \"r2 Score: {}\".format(lgr2score)\n",
    "\n",
    "RMSE = mean_squared_error(y_16jan, y_16jan_lgreg)**0.5\n",
    "print \"RMSE: {}\".format(RMSE)\n",
    "\n",
    "t = np.arange(0,744,1)\n",
    "plt.plot(t, y_16jan_lgreg, 'g.', t, y_16jan.tolist(), 'r.')\n",
    "plt.show()"
   ]
  },
  {
   "cell_type": "code",
   "execution_count": 99,
   "metadata": {
    "collapsed": false
   },
   "outputs": [],
   "source": [
    "#----------- Result\n",
    "\n",
    "result = {}\n",
    "result['16_Jan_True'] = y_16jan.tolist()\n",
    "result['16_Jan_Predict'] = y_16jan_lgreg\n",
    "# result"
   ]
  },
  {
   "cell_type": "code",
   "execution_count": 98,
   "metadata": {
    "collapsed": false
   },
   "outputs": [],
   "source": [
    "#----------- Generate Json File\n",
    "\n",
    "with open('201601.json','w') as fp:\n",
    "    json.dump(result, fp)"
   ]
  },
  {
   "cell_type": "code",
   "execution_count": null,
   "metadata": {
    "collapsed": true
   },
   "outputs": [],
   "source": []
  }
 ],
 "metadata": {
  "kernelspec": {
   "display_name": "Python 2",
   "language": "python",
   "name": "python2"
  },
  "language_info": {
   "codemirror_mode": {
    "name": "ipython",
    "version": 2
   },
   "file_extension": ".py",
   "mimetype": "text/x-python",
   "name": "python",
   "nbconvert_exporter": "python",
   "pygments_lexer": "ipython2",
   "version": "2.7.11"
  }
 },
 "nbformat": 4,
 "nbformat_minor": 0
}
