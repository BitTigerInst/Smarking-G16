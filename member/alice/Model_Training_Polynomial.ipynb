{
 "cells": [
  {
   "cell_type": "markdown",
   "metadata": {},
   "source": [
    "# 1. Import Hourly Data"
   ]
  },
  {
   "cell_type": "code",
   "execution_count": 1,
   "metadata": {
    "collapsed": false
   },
   "outputs": [
    {
     "name": "stdout",
     "output_type": "stream",
     "text": [
      "import done\n"
     ]
    }
   ],
   "source": [
    "#----------- Part-1: Daily Data  ['Date']>'2013-12-31' & ['Date']<'2016-01-01'\n",
    "#----------- Part-2: Weekly Data  , Monday-Sunday-Sum ,  plot  ,  noise\n",
    "#----------- Part-3: Polynomial\n",
    "#----------- Part-4: \n",
    "\n",
    "#----------- Other Questions\n",
    "\n",
    "import json\n",
    "import pandas as pd\n",
    "import numpy as np\n",
    "import matplotlib.pyplot as plt\n",
    "%matplotlib inline\n",
    "\n",
    "from datetime import datetime, date, timedelta\n",
    "import warnings\n",
    "warnings.filterwarnings('ignore')\n",
    "\n",
    "with open('hourly_data.json','rb') as f:\n",
    "    data=f.readlines()\n",
    "hourly_data = json.loads(data[0])\n",
    "\n",
    "print \"import done\""
   ]
  },
  {
   "cell_type": "markdown",
   "metadata": {},
   "source": [
    "# 2. Create Daily Data"
   ]
  },
  {
   "cell_type": "code",
   "execution_count": 13,
   "metadata": {
    "collapsed": false
   },
   "outputs": [
    {
     "name": "stdout",
     "output_type": "stream",
     "text": [
      "2014-06-30 25981\n"
     ]
    }
   ],
   "source": [
    "#----------- Part-1: Daily Data\n",
    "\n",
    "\n",
    "#------- Calculate Daily Count from Hourly Data\n",
    "dict_sum=lambda one_dict,start,end: dict((str(k),sum(one_dict[k])) for k in one_dict.keys()[start:end])\n",
    "\n",
    "daily_data=dict_sum(hourly_data,0,len(hourly_data.keys()))\n",
    "\n",
    "\n",
    "print daily_data.items()[0]"
   ]
  },
  {
   "cell_type": "code",
   "execution_count": 113,
   "metadata": {
    "collapsed": false
   },
   "outputs": [
    {
     "name": "stdout",
     "output_type": "stream",
     "text": [
      "    Year  Week#  Weekday        Date  #_of_parking\n",
      "0   2014     27        1  2014-06-30         25981\n",
      "1   2014     42        4  2014-10-16         28203\n",
      "4   2015     47        4  2015-11-19         28110\n",
      "12  2015     46        6  2015-11-14          1223\n",
      "15  2014     42        3  2014-10-15         29487\n"
     ]
    }
   ],
   "source": [
    "#----------- Part-1: Daily Data  ['Date']>'2013-12-31' & ['Date']<'2016-01-01'\n",
    "\n",
    "# Date-Count\n",
    "\n",
    "raw_data = []\n",
    "for key,value in daily_data.items():\n",
    "    raw_data.append((key,value))\n",
    "\n",
    "data_df = pd.DataFrame(raw_data, columns=['Date','#_of_parking'])\n",
    "\n",
    "\n",
    "#        Year  Week#  Weekday\n",
    "# 0      2014     27        1\n",
    "# Decompose Date to Year, Week# & Weekday\n",
    "pk_df = pd.DataFrame(map(lambda x: x.isocalendar(), pd.to_datetime(data_df['Date'])), columns=['Year','Week#','Weekday'])\n",
    "\n",
    "# len(pk_df)=27768\n",
    "pk_df['Date']=data_df['Date']\n",
    "pk_df['#_of_parking']=data_df['#_of_parking']\n",
    "            \n",
    "\n",
    "# len(use_data_df)=18264\n",
    "# Based on 'Basic_Static.ipynb: part-7' Ignore data of year 2012 & 2013\n",
    "# len(use_data_df)=761\n",
    "use_data_df = pk_df[(pk_df['Date']>'2013-12-31') ]\n",
    "\n",
    "# len(data_train_new)=730\n",
    "data_train_new = use_data_df[use_data_df['Date']<'2016-01-01']\n",
    "\n",
    "# Test data\n",
    "data_test_new = use_data_df[use_data_df['Date']>='2016-01-01']\n",
    "\n",
    "print data_train_new.head()"
   ]
  },
  {
   "cell_type": "markdown",
   "metadata": {},
   "source": [
    "# 3. Make Weekly Data"
   ]
  },
  {
   "cell_type": "code",
   "execution_count": 114,
   "metadata": {
    "collapsed": false
   },
   "outputs": [
    {
     "data": {
      "text/html": [
       "<div>\n",
       "<table border=\"1\" class=\"dataframe\">\n",
       "  <thead>\n",
       "    <tr style=\"text-align: right;\">\n",
       "      <th></th>\n",
       "      <th></th>\n",
       "      <th>#_of_parking</th>\n",
       "    </tr>\n",
       "    <tr>\n",
       "      <th>Year</th>\n",
       "      <th>Week#</th>\n",
       "      <th></th>\n",
       "    </tr>\n",
       "  </thead>\n",
       "  <tbody>\n",
       "    <tr>\n",
       "      <th>2015</th>\n",
       "      <th>53</th>\n",
       "      <td>3088</td>\n",
       "    </tr>\n",
       "    <tr>\n",
       "      <th rowspan=\"4\" valign=\"top\">2016</th>\n",
       "      <th>1</th>\n",
       "      <td>124153</td>\n",
       "    </tr>\n",
       "    <tr>\n",
       "      <th>2</th>\n",
       "      <td>141431</td>\n",
       "    </tr>\n",
       "    <tr>\n",
       "      <th>3</th>\n",
       "      <td>130310</td>\n",
       "    </tr>\n",
       "    <tr>\n",
       "      <th>4</th>\n",
       "      <td>133179</td>\n",
       "    </tr>\n",
       "  </tbody>\n",
       "</table>\n",
       "</div>"
      ],
      "text/plain": [
       "            #_of_parking\n",
       "Year Week#              \n",
       "2015 53             3088\n",
       "2016 1            124153\n",
       "     2            141431\n",
       "     3            130310\n",
       "     4            133179"
      ]
     },
     "execution_count": 114,
     "metadata": {},
     "output_type": "execute_result"
    }
   ],
   "source": [
    "#----------- Part-2: Weekly Data： Monday-Sunday-Sum\n",
    "\n",
    "#  Year  Week#  #_of_parking\n",
    "#  2014     27   25981\n",
    "\n",
    "# Test Weekly Data\n",
    "raw_data=data_train_new.loc[:,['Year','Week#','#_of_parking']]\n",
    "weekly_data=raw_data.groupby(['Year','Week#']).sum()\n",
    "\n",
    "# Test Weekly Data\n",
    "raw_data_test=data_test_new.loc[:,['Year','Week#','#_of_parking']]\n",
    "weekly_data_test=raw_data_test.groupby(['Year','Week#']).sum()\n",
    "\n",
    "\n",
    "weekly_data_test.head()"
   ]
  },
  {
   "cell_type": "code",
   "execution_count": 51,
   "metadata": {
    "collapsed": false
   },
   "outputs": [
    {
     "data": {
      "text/html": [
       "<div>\n",
       "<table border=\"1\" class=\"dataframe\">\n",
       "  <thead>\n",
       "    <tr style=\"text-align: right;\">\n",
       "      <th></th>\n",
       "      <th>#_of_parking</th>\n",
       "    </tr>\n",
       "  </thead>\n",
       "  <tbody>\n",
       "    <tr>\n",
       "      <th>count</th>\n",
       "      <td>105.000000</td>\n",
       "    </tr>\n",
       "    <tr>\n",
       "      <th>mean</th>\n",
       "      <td>125421.828571</td>\n",
       "    </tr>\n",
       "    <tr>\n",
       "      <th>std</th>\n",
       "      <td>25258.429799</td>\n",
       "    </tr>\n",
       "    <tr>\n",
       "      <th>min</th>\n",
       "      <td>27158.000000</td>\n",
       "    </tr>\n",
       "    <tr>\n",
       "      <th>25%</th>\n",
       "      <td>123529.000000</td>\n",
       "    </tr>\n",
       "    <tr>\n",
       "      <th>50%</th>\n",
       "      <td>132118.000000</td>\n",
       "    </tr>\n",
       "    <tr>\n",
       "      <th>75%</th>\n",
       "      <td>140141.000000</td>\n",
       "    </tr>\n",
       "    <tr>\n",
       "      <th>max</th>\n",
       "      <td>152588.000000</td>\n",
       "    </tr>\n",
       "  </tbody>\n",
       "</table>\n",
       "</div>"
      ],
      "text/plain": [
       "        #_of_parking\n",
       "count     105.000000\n",
       "mean   125421.828571\n",
       "std     25258.429799\n",
       "min     27158.000000\n",
       "25%    123529.000000\n",
       "50%    132118.000000\n",
       "75%    140141.000000\n",
       "max    152588.000000"
      ]
     },
     "execution_count": 51,
     "metadata": {},
     "output_type": "execute_result"
    }
   ],
   "source": [
    "weekly_data.describe()"
   ]
  },
  {
   "cell_type": "markdown",
   "metadata": {},
   "source": [
    "# 4. Visualize & Outlier"
   ]
  },
  {
   "cell_type": "code",
   "execution_count": 54,
   "metadata": {
    "collapsed": false
   },
   "outputs": [
    {
     "data": {
      "text/plain": [
       "[<matplotlib.lines.Line2D at 0x103fb55d0>]"
      ]
     },
     "execution_count": 54,
     "metadata": {},
     "output_type": "execute_result"
    },
    {
     "data": {
      "image/png": "[encoded data removed]",
      "text/plain": [
       "<matplotlib.figure.Figure at 0x115376a90>"
      ]
     },
     "metadata": {},
     "output_type": "display_data"
    }
   ],
   "source": [
    "# Plot Weekly Data\n",
    "\n",
    "w=np.arange(0,105,1)\n",
    "plt.plot(w,weekly_data['#_of_parking'])"
   ]
  },
  {
   "cell_type": "code",
   "execution_count": 70,
   "metadata": {
    "collapsed": false
   },
   "outputs": [],
   "source": [
    "# Outlier\n",
    "# 1. outlier\n",
    "# 2. Week & Date of outlier\n",
    "# 3. Regression      delete->regression->recover"
   ]
  },
  {
   "cell_type": "code",
   "execution_count": 61,
   "metadata": {
    "collapsed": false
   },
   "outputs": [
    {
     "data": {
      "image/png": "[encoded data removed]",
      "text/plain": [
       "<matplotlib.figure.Figure at 0x117dcd3d0>"
      ]
     },
     "metadata": {},
     "output_type": "display_data"
    }
   ],
   "source": [
    "# 1. outlier\n",
    "\n",
    "r=plt.boxplot(weekly_data['#_of_parking'])\n",
    "                      \n",
    "bottom_points = r[\"fliers\"][0].get_data()[1]\n",
    "# bottom_points = r[\"fliers\"][2].get_data()[1]\n",
    "                    "
   ]
  },
  {
   "cell_type": "code",
   "execution_count": 62,
   "metadata": {
    "collapsed": false
   },
   "outputs": [
    {
     "data": {
      "text/plain": [
       "array([27158, 94735, 61188, 35945, 41826, 85320, 55360, 42041, 35434])"
      ]
     },
     "execution_count": 62,
     "metadata": {},
     "output_type": "execute_result"
    }
   ],
   "source": [
    "bottom_points"
   ]
  },
  {
   "cell_type": "code",
   "execution_count": 69,
   "metadata": {
    "collapsed": false
   },
   "outputs": [
    {
     "name": "stdout",
     "output_type": "stream",
     "text": [
      "            #_of_parking\n",
      "Year Week#              \n",
      "2014 1             27158\n",
      "            #_of_parking\n",
      "Year Week#              \n",
      "2014 27            94735\n",
      "            #_of_parking\n",
      "Year Week#              \n",
      "2014 48            61188\n",
      "            #_of_parking\n",
      "Year Week#              \n",
      "2014 52            35945\n",
      "            #_of_parking\n",
      "Year Week#              \n",
      "2015 1             41826\n",
      "            #_of_parking\n",
      "Year Week#              \n",
      "2015 22            85320\n",
      "            #_of_parking\n",
      "Year Week#              \n",
      "2015 48            55360\n",
      "            #_of_parking\n",
      "Year Week#              \n",
      "2015 52            42041\n",
      "            #_of_parking\n",
      "Year Week#              \n",
      "2015 53            35434\n"
     ]
    }
   ],
   "source": [
    "# 2. Week & Date of outlier\n",
    "\n",
    "for i in bottom_points:\n",
    "    print weekly_data[(weekly_data['#_of_parking'] == i)]"
   ]
  },
  {
   "cell_type": "markdown",
   "metadata": {},
   "source": [
    "# 5. Linear & Robust Linear Regression"
   ]
  },
  {
   "cell_type": "code",
   "execution_count": 160,
   "metadata": {
    "collapsed": false,
    "scrolled": false
   },
   "outputs": [
    {
     "data": {
      "image/png": "[encoded data removed]",
      "text/plain": [
       "<matplotlib.figure.Figure at 0x11b0ec8d0>"
      ]
     },
     "metadata": {},
     "output_type": "display_data"
    }
   ],
   "source": [
    "# 3. Regression      \n",
    "# Robust Regression\n",
    "#\n",
    "# http://scikit-learn.org/stable/modules/linear_model.html#robustness-regression-outliers-and-modeling-errors\n",
    "from sklearn import linear_model\n",
    "\n",
    "# Train Data\n",
    "y=weekly_data['#_of_parking'].values\n",
    "X=np.arange(0,len(y))\n",
    "X=X.reshape((105,1))\n",
    "\n",
    "# # Test Data\n",
    "# y_test=weekly_data_test['#_of_parking'].values\n",
    "# X_test=np.arange(0,len(y_test))\n",
    "# X_test=X_test.reshape((len(X_test,1))\n",
    "\n",
    "# Fit line using all data\n",
    "model = linear_model.LinearRegression()\n",
    "model.fit(X, y)\n",
    "\n",
    "\n",
    "# Robustly fit linear model with RANSAC algorithm\n",
    "model_ransac = linear_model.RANSACRegressor(linear_model.LinearRegression())\n",
    "model_ransac.fit(X, y)\n",
    "inlier_mask = model_ransac.inlier_mask_\n",
    "outlier_mask = np.logical_not(inlier_mask)\n",
    "\n",
    "# Predict data of estimated models\n",
    "line_X = np.arange(0, 105)\n",
    "line_y = model.predict(line_X[:, np.newaxis])\n",
    "line_y_ransac = model_ransac.predict(line_X[:, np.newaxis])\n",
    "\n",
    "# Compare estimated coefficients\n",
    "# print(\"Estimated coefficients (true, normal, RANSAC):\")\n",
    "# print(coef, model.coef_, model_ransac.estimator_.coef_)\n",
    "\n",
    "plt.plot(X[inlier_mask], y[inlier_mask], '.g', label='Inliers')\n",
    "plt.plot(X[outlier_mask], y[outlier_mask], '.r', label='Outliers')\n",
    "plt.plot(line_X, line_y, '-k', label='Linear regressor')\n",
    "plt.plot(line_X, line_y_ransac, '-b', label='RANSAC regressor')\n",
    "plt.legend(loc='lower left')\n",
    "plt.show()"
   ]
  },
  {
   "cell_type": "markdown",
   "metadata": {},
   "source": [
    "# 6. Polynomial + Robust"
   ]
  },
  {
   "cell_type": "code",
   "execution_count": 124,
   "metadata": {
    "collapsed": false
   },
   "outputs": [
    {
     "data": {
      "image/png": "[encoded data removed]",
      "text/plain": [
       "<matplotlib.figure.Figure at 0x11b0a5cd0>"
      ]
     },
     "metadata": {},
     "output_type": "display_data"
    }
   ],
   "source": [
    "# 3. Regression   OOOOk\n",
    "# Robust Regression  + polynomial  \n",
    "# MSE\n",
    "#\n",
    "# http://scikit-learn.org/stable/modules/linear_model.html#robustness-regression-outliers-and-modeling-errors\n",
    "from sklearn import linear_model, metrics\n",
    "from sklearn.preprocessing import PolynomialFeatures\n",
    "from sklearn.pipeline import make_pipeline\n",
    "\n",
    "# Train Data\n",
    "y=weekly_data['#_of_parking'].values\n",
    "X=np.arange(0,len(y))\n",
    "X=X.reshape((105,1))\n",
    "line_X = np.arange(0, 105)\n",
    "\n",
    "\n",
    "# Test Data\n",
    "# y_test=weekly_data_test['#_of_parking'].values\n",
    "# X_test=np.arange(0,len(y_test))\n",
    "# X_test=X_test.reshape((len(X_test,1))\n",
    "\n",
    "\n",
    "\n",
    "# Fit line using all data\n",
    "model = linear_model.LinearRegression()\n",
    "model.fit(X, y)\n",
    "# mse_ln = metrics.mean_squared_error(model.predict(X_test), y_test)\n",
    "line_y = model.predict(line_X[:, np.newaxis])\n",
    "\n",
    "\n",
    "# Robustly fit linear model with RANSAC algorithm\n",
    "model_ransac = linear_model.RANSACRegressor(linear_model.LinearRegression())\n",
    "model_ransac.fit(X, y)\n",
    "# mse_ransac = metrics.mean_squared_error(model_ransac.predict(X_test), y_test)\n",
    "line_y_ransac = model_ransac.predict(line_X[:, np.newaxis])\n",
    "\n",
    "inlier_mask = model_ransac.inlier_mask_\n",
    "outlier_mask = np.logical_not(inlier_mask)\n",
    "\n",
    "\n",
    "# Polynomial-3\n",
    "model_poly = make_pipeline(PolynomialFeatures(3),model_ransac )\n",
    "model_poly.fit(X, y)\n",
    "# mse_poly = metrics.mean_squared_error(model_poly.predict(X_test), y_test)\n",
    "line_y_poly = model_poly.predict(line_X[:, np.newaxis])\n",
    "\n",
    "\n",
    "# Polynomial-5\n",
    "model_poly_5 = make_pipeline(PolynomialFeatures(5),model_ransac )\n",
    "model_poly_5.fit(X, y)\n",
    "# mse_poly_5 = metrics.mean_squared_error(model_poly_5.predict(X_test), y_test)\n",
    "line_y_poly_5 = model_poly_5.predict(line_X[:, np.newaxis])\n",
    "\n",
    "\n",
    "# Predict data of estimated models\n",
    "\n",
    "\n",
    "# Compare estimated coefficients\n",
    "# print(\"Estimated coefficients (true, normal, RANSAC):\")\n",
    "# print(coef, model.coef_, model_ransac.estimator_.coef_)\n",
    "\n",
    "plt.plot(X[inlier_mask], y[inlier_mask], '.g', label='Inliers')\n",
    "plt.plot(X[outlier_mask], y[outlier_mask], '.r', label='Outliers')\n",
    "# plt.plot(line_X, line_y, '-k', label='Linear regressor')\n",
    "# plt.plot(line_X, line_y_ransac, '-b', label='RANSAC regressor')\n",
    "plt.plot(line_X, line_y_poly, '-r', label='Polynomial_3 regressor')\n",
    "plt.plot(line_X, line_y_poly_5, '-b', label='Polynomial_5 regressor' )\n",
    "# plt.plot(line_X, line_y_poly, '-r', label='%s: error = %.3f' % ('Polynomial_3 regressor', mse_poly))\n",
    "# plt.plot(line_X, line_y_poly_5, '-b', label='%s: error = %.3f' % ('Polynomial_5 regressor', mse_poly_5))\n",
    "plt.legend(loc='lower right')\n",
    "plt.show()"
   ]
  },
  {
   "cell_type": "code",
   "execution_count": 159,
   "metadata": {
    "collapsed": false
   },
   "outputs": [
    {
     "name": "stdout",
     "output_type": "stream",
     "text": [
      "MSE of Linear Regression: 628450862.424\n",
      "MSE of Robust Linear Regression: 693034434.456\n",
      "MSE of Polynomial_3 Robust Regression: 646807385.445\n",
      "MSE of Polynomial_5 Robust Regression: 624750600.682\n"
     ]
    }
   ],
   "source": [
    "mse_ln = metrics.mean_squared_error(line_y, y)\n",
    "mse_ransac = metrics.mean_squared_error(line_y_ransac, y)\n",
    "mse_poly = metrics.mean_squared_error(line_y_poly, y)\n",
    "mse_poly_5 = metrics.mean_squared_error(line_y_poly_5, y)\n",
    "\n",
    "print 'MSE of Linear Regression: %.3f'%mse_ln\n",
    "print 'MSE of Robust Linear Regression: %.3f'%mse_ransac\n",
    "print 'MSE of Polynomial_3 Robust Regression: %.3f'%mse_poly\n",
    "print 'MSE of Polynomial_5 Robust Regression: %.3f'%mse_poly_5"
   ]
  },
  {
   "cell_type": "code",
   "execution_count": 133,
   "metadata": {
    "collapsed": false
   },
   "outputs": [],
   "source": [
    "# Not work\n",
    "#\n",
    "# from sklearn import linear_model, metrics\n",
    "# mse_ln = metrics.mean_squared_error(model.predict(X_test), y_test)\n",
    "# line_X_test = np.arange(0, len(y_test))\n",
    "# model_ransac.predict(line_X_test[:, np.newaxis])"
   ]
  },
  {
   "cell_type": "code",
   "execution_count": 163,
   "metadata": {
    "collapsed": false
   },
   "outputs": [
    {
     "name": "stdout",
     "output_type": "stream",
     "text": [
      "Score of Linear Regression: 0.005\n",
      "Score of Robust Linear Regression: -0.138\n"
     ]
    }
   ],
   "source": [
    "print 'Score of Linear Regression: %.3f'%model.score(X,y)\n",
    "print 'Score of Robust Linear Regression: %.3f'%model_ransac.score(X,y)\n",
    "# print 'Score of Polynomial_3 Robust Regression: %.3f'%model_poly.score(X,y)\n",
    "# print 'Score of Polynomial_5 Robust Regression: %.3f'%model_poly_5.score(X,y)"
   ]
  },
  {
   "cell_type": "markdown",
   "metadata": {},
   "source": [
    "# 7. MSE Comparation: Polynomial+Linear"
   ]
  },
  {
   "cell_type": "code",
   "execution_count": 165,
   "metadata": {
    "collapsed": false
   },
   "outputs": [
    {
     "name": "stdout",
     "output_type": "stream",
     "text": [
      "Automatically created module for IPython interactive environment\n"
     ]
    },
    {
     "data": {
      "image/png": "[encoded data removed]",
      "text/plain": [
       "<matplotlib.figure.Figure at 0x11bfaa0d0>"
      ]
     },
     "metadata": {},
     "output_type": "display_data"
    }
   ],
   "source": [
    "# Just Polynomial\n",
    "\n",
    "print(__doc__)\n",
    "\n",
    "import numpy as np\n",
    "import matplotlib.pyplot as plt\n",
    "from sklearn.pipeline import Pipeline\n",
    "from sklearn.preprocessing import PolynomialFeatures\n",
    "from sklearn.linear_model import LinearRegression\n",
    "from sklearn import cross_validation\n",
    "\n",
    "# np.random.seed(0)\n",
    "# n_samples = 30\n",
    "degrees = [3, 5, 15]\n",
    "\n",
    "# true_fun = lambda X: np.cos(1.5 * np.pi * X)\n",
    "# X = np.sort(np.random.rand(n_samples))\n",
    "# y = true_fun(X) + np.random.randn(n_samples) * 0.1\n",
    "\n",
    "# Train Data\n",
    "y=weekly_data['#_of_parking'].values\n",
    "X=np.arange(0,len(y))\n",
    "# X=X.reshape((105,1))\n",
    "# line_X = np.arange(0, 105)\n",
    "\n",
    "\n",
    "# Test Data\n",
    "y_test=weekly_data_test['#_of_parking'].values\n",
    "X_test=np.arange(0,len(y_test))\n",
    "# X_test=X_test.reshape((len(X_test,1))\n",
    "\n",
    "\n",
    "\n",
    "plt.figure(figsize=(14, 5))\n",
    "for i in range(len(degrees)):\n",
    "    ax = plt.subplot(1, len(degrees), i + 1)\n",
    "    plt.setp(ax, xticks=(), yticks=())\n",
    "\n",
    "    polynomial_features = PolynomialFeatures(degree=degrees[i],\n",
    "                                             include_bias=False)\n",
    "    linear_regression = LinearRegression()\n",
    "    pipeline = Pipeline([(\"polynomial_features\", polynomial_features),\n",
    "                         (\"linear_regression\", linear_regression)])\n",
    "    pipeline.fit(X[:, np.newaxis], y)\n",
    "\n",
    "    # Evaluate the models using crossvalidation\n",
    "    scores = cross_validation.cross_val_score(pipeline,\n",
    "        X[:, np.newaxis], y, scoring=\"mean_squared_error\", cv=10)\n",
    "\n",
    "#     X_test = np.linspace(0, 1, 100)\n",
    "#     plt.plot(X_test, pipeline.predict(X_test[:, np.newaxis]), label=\"Model\")\n",
    "    plt.plot(X, pipeline.predict(X[:, np.newaxis]),'-r', label=\"Model\")\n",
    "#     plt.plot(X_test, true_fun(X_test), label=\"True function\")\n",
    "    plt.scatter(X, y, label=\"Samples\")\n",
    "    plt.xlabel(\"x\")\n",
    "    plt.ylabel(\"y\")\n",
    "#     plt.xlim((0, 1))\n",
    "#     plt.ylim((-2, 2))\n",
    "    plt.legend(loc=\"best\")\n",
    "    plt.title(\"Degree {}\\nMSE = {:.2e}(+/- {:.2e})\".format(\n",
    "        degrees[i], -scores.mean(), scores.std()))\n",
    "plt.show()\n",
    "\n"
   ]
  },
  {
   "cell_type": "markdown",
   "metadata": {},
   "source": [
    "# 8. MSE Comparation: Polynomial+Robust"
   ]
  },
  {
   "cell_type": "code",
   "execution_count": 167,
   "metadata": {
    "collapsed": false
   },
   "outputs": [
    {
     "name": "stdout",
     "output_type": "stream",
     "text": [
      "Automatically created module for IPython interactive environment\n"
     ]
    },
    {
     "data": {
      "image/png": "[encoded data removed]",
      "text/plain": [
       "<matplotlib.figure.Figure at 0x11c1eebd0>"
      ]
     },
     "metadata": {},
     "output_type": "display_data"
    }
   ],
   "source": [
    "# Polynomial ＋ Robust\n",
    "\n",
    "print(__doc__)\n",
    "\n",
    "import numpy as np\n",
    "import matplotlib.pyplot as plt\n",
    "from sklearn.pipeline import Pipeline\n",
    "from sklearn.preprocessing import PolynomialFeatures\n",
    "from sklearn.linear_model import LinearRegression\n",
    "from sklearn import cross_validation\n",
    "\n",
    "# np.random.seed(0)\n",
    "# n_samples = 30\n",
    "degrees = [3, 5, 15]\n",
    "\n",
    "# true_fun = lambda X: np.cos(1.5 * np.pi * X)\n",
    "# X = np.sort(np.random.rand(n_samples))\n",
    "# y = true_fun(X) + np.random.randn(n_samples) * 0.1\n",
    "\n",
    "# Train Data\n",
    "y=weekly_data['#_of_parking'].values\n",
    "X=np.arange(0,len(y))\n",
    "# X=X.reshape((105,1))\n",
    "# line_X = np.arange(0, 105)\n",
    "\n",
    "\n",
    "# Test Data\n",
    "y_test=weekly_data_test['#_of_parking'].values\n",
    "X_test=np.arange(0,len(y_test))\n",
    "# X_test=X_test.reshape((len(X_test,1))\n",
    "\n",
    "\n",
    "#---------- Robustly fit linear model with RANSAC algorithm\n",
    "model_ransac = linear_model.RANSACRegressor(linear_model.LinearRegression())\n",
    "# model_ransac.fit(X, y)\n",
    "# line_y_ransac = model_ransac.predict(line_X[:, np.newaxis])\n",
    "# inlier_mask = model_ransac.inlier_mask_\n",
    "# outlier_mask = np.logical_not(inlier_mask)\n",
    "\n",
    "\n",
    "\n",
    "plt.figure(figsize=(14, 5))\n",
    "for i in range(len(degrees)):\n",
    "    ax = plt.subplot(1, len(degrees), i + 1)\n",
    "    plt.setp(ax, xticks=(), yticks=())\n",
    "\n",
    "    polynomial_features = PolynomialFeatures(degree=degrees[i],\n",
    "                                             include_bias=False)\n",
    "    \n",
    "    model_ransac = linear_model.RANSACRegressor(linear_model.LinearRegression())\n",
    "    \n",
    "#     linear_regression = LinearRegression()\n",
    "    pipeline = Pipeline([(\"polynomial_features\", polynomial_features),\n",
    "                         (\"robust_linear_regression\", model_ransac)])\n",
    "    pipeline.fit(X[:, np.newaxis], y)\n",
    "\n",
    "    # Evaluate the models using crossvalidation\n",
    "    scores = cross_validation.cross_val_score(pipeline,\n",
    "        X[:, np.newaxis], y, scoring=\"mean_squared_error\", cv=10)\n",
    "\n",
    "#     X_test = np.linspace(0, 1, 100)\n",
    "#     plt.plot(X_test, pipeline.predict(X_test[:, np.newaxis]), label=\"Model\")\n",
    "    plt.plot(X, pipeline.predict(X[:, np.newaxis]),'-r', label=\"Model\")\n",
    "#     plt.plot(X_test, true_fun(X_test), label=\"True function\")\n",
    "    plt.scatter(X, y, label=\"Samples\")\n",
    "    plt.xlabel(\"x\")\n",
    "    plt.ylabel(\"y\")\n",
    "#     plt.xlim((0, 1))\n",
    "#     plt.ylim((-2, 2))\n",
    "    plt.legend(loc=\"best\")\n",
    "    plt.title(\"Degree {}\\nMSE = {:.2e}(+/- {:.2e})\".format(\n",
    "        degrees[i], -scores.mean(), scores.std()))\n",
    "plt.show()\n",
    "\n"
   ]
  },
  {
   "cell_type": "code",
   "execution_count": null,
   "metadata": {
    "collapsed": true
   },
   "outputs": [],
   "source": []
  }
 ],
 "metadata": {
  "kernelspec": {
   "display_name": "Python 2",
   "language": "python",
   "name": "python2"
  },
  "language_info": {
   "codemirror_mode": {
    "name": "ipython",
    "version": 2
   },
   "file_extension": ".py",
   "mimetype": "text/x-python",
   "name": "python",
   "nbconvert_exporter": "python",
   "pygments_lexer": "ipython2",
   "version": "2.7.11"
  }
 },
 "nbformat": 4,
 "nbformat_minor": 0
}
