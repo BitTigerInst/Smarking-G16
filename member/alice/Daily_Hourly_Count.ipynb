{
 "cells": [
  {
   "cell_type": "code",
   "execution_count": 2,
   "metadata": {
    "collapsed": false
   },
   "outputs": [
    {
     "name": "stdout",
     "output_type": "stream",
     "text": [
      "            entry_time            exit_time\n",
      "0  2012-12-01 07:26:00  2012-12-01 09:40:00\n",
      "1  2012-12-01 07:36:00  2012-12-01 09:46:08\n",
      "2  2012-12-01 07:41:00  2012-12-01 09:51:00\n",
      "3  2012-12-01 06:57:00  2012-12-01 09:52:00\n",
      "4  2012-12-01 07:04:00  2012-12-01 10:19:00\n"
     ]
    }
   ],
   "source": [
    "# Importing a few necessary libraries\n",
    "import pandas as pd\n",
    "from datetime import datetime\n",
    "import matplotlib.pyplot as pyplot\n",
    "\n",
    "# Make matplotlib show our plots inline (nicely formatted in the notebook)\n",
    "%matplotlib inline\n",
    "\n",
    "# Load the dataset\n",
    "data = pd.read_csv('trans.csv')\n",
    "\n",
    "#data.describe\n",
    "#[1654194 rows x 2 columns]\n",
    "\n",
    "# Basic Data Description\n",
    "print data.head()\n",
    "#print data.shape\n",
    "#print data.dtypes"
   ]
  },
  {
   "cell_type": "code",
   "execution_count": 14,
   "metadata": {
    "collapsed": false
   },
   "outputs": [
    {
     "data": {
      "text/plain": [
       "15"
      ]
     },
     "execution_count": 14,
     "metadata": {},
     "output_type": "execute_result"
    }
   ],
   "source": [
    "# Bad Data Check: when entry time >= exit time \n",
    "\n",
    "# Convert data from string to datetime\n",
    "# entry = pd.to_datetime(data['entry_time'])\n",
    "# exit = pd.to_datetime(data['exit_time'])\n",
    "\n",
    "# n = len(data)\n",
    "# def entry_lt_exit():\n",
    "#     count=0\n",
    "#     badrow=[]\n",
    "#     for i in range(n):\n",
    "#         if entry[i] >= exit[i]:\n",
    "#             count+=1\n",
    "#             badrow.attach(i)\n",
    "#             #print i, entry[i], exit[i]\n",
    "#     return count\n",
    "# entry_lt_exit()\n"
   ]
  },
  {
   "cell_type": "code",
   "execution_count": 12,
   "metadata": {
    "collapsed": false
   },
   "outputs": [
    {
     "name": "stdout",
     "output_type": "stream",
     "text": [
      "datetime64[ns]\n"
     ]
    }
   ],
   "source": [
    "# Convert data from string to datetime\n",
    "entry = pd.to_datetime(data['entry_time'])\n",
    "exit = pd.to_datetime(data['exit_time'])\n",
    "\n",
    "print entry.dtypes\n",
    "#print exit.dtypes"
   ]
  },
  {
   "cell_type": "code",
   "execution_count": 13,
   "metadata": {
    "collapsed": false
   },
   "outputs": [
    {
     "name": "stdout",
     "output_type": "stream",
     "text": [
      "1654194\n",
      "0.0\n",
      "6.04524015926\n",
      "12.0904803185\n",
      "18.1357204778\n",
      "24.180960637\n",
      "30.2262007963\n",
      "36.2714409555\n",
      "42.3166811148\n",
      "48.361921274\n",
      "54.4071614333\n",
      "60.4524015926\n",
      "66.4976417518\n",
      "72.5428819111\n",
      "78.5881220703\n",
      "84.6333622296\n",
      "90.6786023888\n",
      "96.7238425481\n",
      "1654193\n"
     ]
    }
   ],
   "source": [
    "# Daily-Hourly Count Visualize\n",
    "# \n",
    "# dict()--- each date: 24 hours\n",
    "# Every Transaction(entry vs exit) 3 Time States--- same date same hour, same date diff hour, diff date\n",
    "# date: 24 hours--- count+1 when each transaction occupies this hour\n",
    "# \n",
    "# Notice: After Running Below Once, Entry and Exit Set Changed\n",
    "#\n",
    "# This cell will run about 1 hr\n",
    "\n",
    "\n",
    "from datetime import timedelta\n",
    "\n",
    "hourly_data = dict()\n",
    "    # {datetime.date(2012, 12, 1): [0, 0, 0, 0, 0, 0, 0, 0, 0, 0, 0, 0, 0, 0, 0, 0, 0, 0, 0, 0, 0, 0, 0, 0]}\n",
    "\n",
    "n = len(data)\n",
    "print n\n",
    "for i in range(n):\n",
    "    \n",
    "    # Ignore Bad Data\n",
    "    if entry[i] >= exit[i]:\n",
    "        continue\n",
    "    \n",
    "    else:\n",
    "        \n",
    "        # Same Date Diff Hour, Diff Date\n",
    "        while entry[i].date() < exit[i].date() or entry[i].hour < exit[i].hour:\n",
    "            hourly_data[entry[i].date()] = hourly_data.get(entry[i].date(), [0] * 24)\n",
    "                # [0, 0, 0, 0, 0, 0, 0, 0, 0, 1, 0, 0, 0, 0, 0, 0, 0, 0, 0, 0, 0, 0, 0, 0]\n",
    "            hourly_data[entry[i].date()][entry[i].hour] = hourly_data[entry[i].date()][entry[i].hour] + 1\n",
    "            \n",
    "            # Each Hour Occupied by Each Transaction\n",
    "            entry[i] += timedelta(hours=1)\n",
    "                # 2012-12-01 09:36:00, 1:00:00, 2012-12-01 10:36:00\n",
    "        \n",
    "        # Same Date Same Hour\n",
    "        hourly_data[exit[i].date()] = hourly_data.get(exit[i].date(), [0] * 24)\n",
    "        hourly_data[exit[i].date()][exit[i].hour] = hourly_data[exit[i].date()][exit[i].hour] + 1\n",
    "        \n",
    "    # Print % Data Processed   \n",
    "    if i % 100000 == 0:\n",
    "        print 1.0 * i / n * 100.0\n",
    "#     if i==n:\n",
    "#         print '100% Completed'\n",
    "\n",
    "# Test i in range(5)--- Result Correct\n",
    "# print data.head()\n",
    "# print hourly_data\n",
    "# {datetime.date(2012, 12, 1): [0, 0, 0, 0, 0, 0, 1, 5, 5, 5, 1, 0, 0, 0, 0, 0, 0, 0, 0, 0, 0, 0, 0, 0]}\n",
    "print i"
   ]
  },
  {
   "cell_type": "code",
   "execution_count": 14,
   "metadata": {
    "collapsed": false
   },
   "outputs": [
    {
     "data": {
      "text/plain": [
       "1157"
      ]
     },
     "execution_count": 14,
     "metadata": {},
     "output_type": "execute_result"
    }
   ],
   "source": [
    "len(hourly_data)"
   ]
  },
  {
   "cell_type": "code",
   "execution_count": null,
   "metadata": {
    "collapsed": true
   },
   "outputs": [],
   "source": []
  }
 ],
 "metadata": {
  "kernelspec": {
   "display_name": "Python 2",
   "language": "python",
   "name": "python2"
  },
  "language_info": {
   "codemirror_mode": {
    "name": "ipython",
    "version": 2
   },
   "file_extension": ".py",
   "mimetype": "text/x-python",
   "name": "python",
   "nbconvert_exporter": "python",
   "pygments_lexer": "ipython2",
   "version": "2.7.11"
  }
 },
 "nbformat": 4,
 "nbformat_minor": 0
}
